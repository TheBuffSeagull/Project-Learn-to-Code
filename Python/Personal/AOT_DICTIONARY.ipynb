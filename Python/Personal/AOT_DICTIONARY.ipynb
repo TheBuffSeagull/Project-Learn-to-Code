{
 "cells": [
  {
   "cell_type": "markdown",
   "metadata": {},
   "source": [
    "AOT_USER DICTIONARY"
   ]
  },
  {
   "cell_type": "code",
   "execution_count": 1,
   "metadata": {},
   "outputs": [
    {
     "data": {
      "text/html": [
       "<pre style=\"white-space:pre;overflow-x:auto;line-height:normal;font-family:Menlo,'DejaVu Sans Mono',consolas,'Courier New',monospace\">Grabbing main dictionary from file. Expecting str:  <span style=\"font-weight: bold\">&lt;</span><span style=\"color: #ff00ff; text-decoration-color: #ff00ff; font-weight: bold\">class</span><span style=\"color: #000000; text-decoration-color: #000000\"> </span><span style=\"color: #008000; text-decoration-color: #008000\">'str'</span><span style=\"font-weight: bold\">&gt;</span>\n",
       "</pre>\n"
      ],
      "text/plain": [
       "Grabbing main dictionary from file. Expecting str:  \u001b[1m<\u001b[0m\u001b[1;95mclass\u001b[0m\u001b[39m \u001b[0m\u001b[32m'str'\u001b[0m\u001b[1m>\u001b[0m\n"
      ]
     },
     "metadata": {},
     "output_type": "display_data"
    },
    {
     "data": {
      "text/html": [
       "<pre style=\"white-space:pre;overflow-x:auto;line-height:normal;font-family:Menlo,'DejaVu Sans Mono',consolas,'Courier New',monospace\">Converting back to Dictionary. Expecting Dictionary:  <span style=\"font-weight: bold\">&lt;</span><span style=\"color: #ff00ff; text-decoration-color: #ff00ff; font-weight: bold\">class</span><span style=\"color: #000000; text-decoration-color: #000000\"> </span><span style=\"color: #008000; text-decoration-color: #008000\">'dict'</span><span style=\"font-weight: bold\">&gt;</span>\n",
       "</pre>\n"
      ],
      "text/plain": [
       "Converting back to Dictionary. Expecting Dictionary:  \u001b[1m<\u001b[0m\u001b[1;95mclass\u001b[0m\u001b[39m \u001b[0m\u001b[32m'dict'\u001b[0m\u001b[1m>\u001b[0m\n"
      ]
     },
     "metadata": {},
     "output_type": "display_data"
    },
    {
     "data": {
      "text/html": [
       "<pre style=\"white-space:pre;overflow-x:auto;line-height:normal;font-family:Menlo,'DejaVu Sans Mono',consolas,'Courier New',monospace\">Found name: <span style=\"font-weight: bold\">[</span><span style=\"color: #008000; text-decoration-color: #008000\">'orange'</span><span style=\"font-weight: bold\">]</span>\n",
       "</pre>\n"
      ],
      "text/plain": [
       "Found name: \u001b[1m[\u001b[0m\u001b[32m'orange'\u001b[0m\u001b[1m]\u001b[0m\n"
      ]
     },
     "metadata": {},
     "output_type": "display_data"
    },
    {
     "data": {
      "text/html": [
       "<pre style=\"white-space:pre;overflow-x:auto;line-height:normal;font-family:Menlo,'DejaVu Sans Mono',consolas,'Courier New',monospace\">Found name: <span style=\"font-weight: bold\">[</span><span style=\"color: #008000; text-decoration-color: #008000\">'orange'</span><span style=\"font-weight: bold\">]</span>\n",
       "</pre>\n"
      ],
      "text/plain": [
       "Found name: \u001b[1m[\u001b[0m\u001b[32m'orange'\u001b[0m\u001b[1m]\u001b[0m\n"
      ]
     },
     "metadata": {},
     "output_type": "display_data"
    },
    {
     "data": {
      "text/html": [
       "<pre style=\"white-space:pre;overflow-x:auto;line-height:normal;font-family:Menlo,'DejaVu Sans Mono',consolas,'Courier New',monospace\">File has updated to have <span style=\"color: #008080; text-decoration-color: #008080; font-weight: bold\">8</span> values.\n",
       "\n",
       "</pre>\n"
      ],
      "text/plain": [
       "File has updated to have \u001b[1;36m8\u001b[0m values.\n",
       "\n"
      ]
     },
     "metadata": {},
     "output_type": "display_data"
    }
   ],
   "source": [
    "from rich import print\n",
    "from pathlib import Path\n",
    "import pprint\n",
    "import re\n",
    "import json\n",
    "\n",
    "\n",
    "def get_paste(data):  \n",
    "    \"\"\"TAKES AOT USER PASTE AND MAKES IT USABLE AS DICTIONARY.\"\"\"\n",
    "    #Try on open to read paste from user and then clear the contents\n",
    "    print(\"Grabbing paste data input as str: \", type(data))\n",
    "\n",
    "    #Cleaning this as the RE module finds it.\n",
    "    data = data.replace('<color=\"orange\">[YOU]</color>', '')\n",
    "    \n",
    "    #SPECIFYING THESE BEFORE CLEANING TO AVOID BAD BRACKETS BEING ADDED LIKE HOST DATA NUMBERS Ex: '[01] -'\n",
    "    user_name = re.findall('\"([^\"]*)\"', data) \n",
    "    user_ID = re.findall(r'\\s\\[(\\w+)\\]', data)\n",
    "    \n",
    "    data = data.replace('<indent=2%>', '')\n",
    "    data = data.replace('</indent>', '\\n')\n",
    "\n",
    "\n",
    "    data = merge(user_ID, user_name)\n",
    "    #maybe turn data into set to avoid duplicatesa\n",
    "    print(f'Data ftom function: {data}')\n",
    "\n",
    "\n",
    "\n",
    "    #This returns a list with ID first and name second\n",
    "    return data\n",
    "\n",
    "def merge(list1, list2):\n",
    "      \n",
    "    merged_list = []\n",
    "    for i in range(max((len(list1), len(list2)))):\n",
    "  \n",
    "        while True:\n",
    "            try:\n",
    "                tup = (list1[i], list2[i])\n",
    "            except IndexError:\n",
    "                if len(list1) > len(list2):\n",
    "                    list2.append('')\n",
    "                    tup = (list1[i], list2[i])\n",
    "                elif len(list1) < len(list2):\n",
    "                    list1.append('')\n",
    "                    tup = (list1[i], list2[i])\n",
    "                continue\n",
    "  \n",
    "            merged_list.append(tup)\n",
    "            break\n",
    "    return merged_list\n",
    "\n",
    "#making sure the file exists with touch before opening it\n",
    "Path('NAME_STORAGE.txt').touch(exist_ok=True)\n",
    "\n",
    "\n",
    "with open(\"NAME_STORAGE.txt\", \"r+\") as file:\n",
    "    data = file.read()\n",
    "\n",
    "    print(\"Grabbing main dictionary from file. Expecting str: \", type(data))\n",
    "\n",
    "    #place holder if nothing in file\n",
    "    Dictionary = {}\n",
    "    paste_doc = {}\n",
    " \n",
    "    try:\n",
    "        #using json.loads to convert file to dictionary\n",
    "        Dictionary = json.loads(data)\n",
    "        print(\"Converting back to Dictionary. Expecting Dictionary: \", type(Dictionary))\n",
    "        \n",
    "    #sometimes if file empty we get an exception\n",
    "    except Exception as e: print(e)\n",
    "\n",
    "\n",
    "    Active = True\n",
    "    while Active:\n",
    "        \n",
    "        user_input = input(\"Type an AOT User ID, 'add', 'all', 'remove', or 'exit': \")\n",
    "\n",
    "   \n",
    "        if user_input == 'add':\n",
    "            while True:\n",
    "                paste_input = input(\"Please paste new data into window or type 'save': \")\n",
    "                \n",
    "                #check for user exit before process.\n",
    "                if paste_input == 'save':\n",
    "                    #save current stage in case someone closes the program without typing exit\n",
    "                    try:\n",
    "                        #merging current updated dictionary and paste entries dictionary\n",
    "                        Dictionary = Dictionary | paste_doc\n",
    "                    except Exception as e: print(e)\n",
    "\n",
    "\n",
    "                    #move back to first line of file\n",
    "                    file.seek(0)\n",
    "                    #Write dictionary to Name_STORAGE.txt \n",
    "                    # (dumps makes dictionary to str cause you can't write DICT to file)\n",
    "                    file.write(json.dumps(Dictionary))\n",
    "                    #truncate makes sure the file is now the size of \"Dictionary\" (sometimes old stuff was left behind)\n",
    "                    file.truncate()\n",
    "                    #get current number of entries\n",
    "                    print(f\"File has updated to have {len(Dictionary)} values.\\n\")\n",
    "                    \n",
    "                    break\n",
    "                \n",
    "                #look for new entries from user paste\n",
    "                paste_doc = get_paste(paste_input)\n",
    "                print(f'Data ftom paste_doc function: {paste_doc}')\n",
    "\n",
    "                paste_doc = set(paste_doc)\n",
    "                print(\"Expecting Set: \", type(paste_doc))\n",
    "                print(f'Data ftom set: {paste_doc}')\n",
    "\n",
    "                for _id, _name in paste_doc:\n",
    "                    if _id not in Dictionary.keys():\n",
    "                        Dictionary[_id] = list()\n",
    "                        print(f\"Adding Dictionary ID: {_id}\")       \n",
    "                    if _name not in Dictionary.get(_id):\n",
    "                        Dictionary[_id].append(_name)\n",
    "                        print(f\"Adding Name: {_name}\")\n",
    "                \n",
    "\n",
    "\n",
    "        \n",
    "        if user_input == \"remove\":\n",
    "            while True:\n",
    "                try:\n",
    "                    remove_input = input(\"Type an ID to remove or 'back': \")\n",
    "                    \n",
    "                    #check for user exit before paste data.\n",
    "                    if remove_input == 'back':\n",
    "                        break\n",
    "                    \n",
    "                    #otherwise we deleting\n",
    "                    else:\n",
    "                        try:\n",
    "                            print(f\"Deleting {remove_input} with names {Dictionary[remove_input]}\")\n",
    "                            del Dictionary[remove_input]\n",
    "                        #gotta catch em all!\n",
    "                        except Exception as e: print(e)\n",
    "\n",
    "                except Exception as e: print(e)\n",
    "        \n",
    "        if user_input == 'all':\n",
    "            pprint.pprint(Dictionary)\n",
    "            print(f\"File currently has {len(Dictionary)} values.\\n\")\n",
    "\n",
    "        #get user ID if someone looks it up\n",
    "        elif user_input in Dictionary:\n",
    "            if len(Dictionary[user_input]) > 1:\n",
    "                print(f\"Found names: {Dictionary[user_input]}\")\n",
    "\n",
    "            elif len(Dictionary[user_input]) == 1:\n",
    "                print(f\"Found name: {Dictionary[user_input]}\")\n",
    "            \n",
    "        elif user_input not in Dictionary:\n",
    "            if \"000\" in user_input:\n",
    "                print(\"No ID found.\")\n",
    "\n",
    "        if user_input == 'exit':\n",
    "            Active = False\n",
    "    \n",
    "    \n",
    "    \n",
    "    #Start closing the program\n",
    "    try:\n",
    "        #merging current updated dictionary and paste entries dictionary\n",
    "        Dictionary = Dictionary | paste_doc\n",
    "    except Exception as e: print(e)\n",
    "\n",
    "\n",
    "    #move back to first line of file\n",
    "    file.seek(0)\n",
    "    #Write dictionary to Name_STORAGE.txt \n",
    "    # (dumps makes dictionary to str cause you can't write DICT to file)\n",
    "    file.write(json.dumps(Dictionary))\n",
    "    #truncate makes sure the file is now the size of \"Dictionary\" (sometimes old stuff was left behind)\n",
    "    file.truncate()\n",
    "    #get current number of entries\n",
    "    print(f\"File has updated to have {len(Dictionary)} values.\\n\")\n",
    "\n",
    "\n",
    "        \n",
    "\n",
    "\n",
    "\n"
   ]
  }
 ],
 "metadata": {
  "interpreter": {
   "hash": "3785a6bba5f1801a86945c73424b4f1b6385e5f47f9ef3b4f4127c4e549a9af5"
  },
  "kernelspec": {
   "display_name": "Python 3.10.4 64-bit",
   "language": "python",
   "name": "python3"
  },
  "language_info": {
   "codemirror_mode": {
    "name": "ipython",
    "version": 3
   },
   "file_extension": ".py",
   "mimetype": "text/x-python",
   "name": "python",
   "nbconvert_exporter": "python",
   "pygments_lexer": "ipython3",
   "version": "3.10.4"
  },
  "orig_nbformat": 4
 },
 "nbformat": 4,
 "nbformat_minor": 2
}
